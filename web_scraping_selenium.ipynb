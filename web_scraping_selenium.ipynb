{
 "cells": [
  {
   "cell_type": "markdown",
   "metadata": {
    "run_control": {
     "frozen": false,
     "read_only": false
    }
   },
   "source": [
    "# Scraping the Unscrapable\n",
    "\n",
    "### What happens if I try to parse Google with `requests` and `BeautifulSoup`?"
   ]
  },
  {
   "cell_type": "code",
   "execution_count": null,
   "metadata": {
    "run_control": {
     "frozen": false,
     "read_only": false
    }
   },
   "outputs": [],
   "source": [
    "import requests\n",
    "from bs4 import BeautifulSoup\n",
    "\n",
    "google_url=\"https://www.google.com\"\n",
    "soup=BeautifulSoup(requests.get(google_url).text, \"html5lib\")\n",
    "print(soup.prettify())"
   ]
  },
  {
   "cell_type": "markdown",
   "metadata": {},
   "source": [
    "There is a lot going on on this page - specifically, JavaScript is being used to render a lot of stuff here. \n",
    "\n",
    "Nevertheless, we can use Chrome inspector to find the name of a particular element. On Mac, the shortcut is \"Alt/Option + Command + I\". Then, use \"Command + Shift + C\" to bring up the \"hover highlight\" functionality: "
   ]
  },
  {
   "cell_type": "code",
   "execution_count": 2,
   "metadata": {},
   "outputs": [
    {
     "name": "stdout",
     "output_type": "stream",
     "text": [
      "<input autocomplete=\"off\" class=\"lst\" maxlength=\"2048\" name=\"q\" size=\"57\" style=\"color:#000;margin:0;padding:5px 8px 0 6px;vertical-align:top\" title=\"Google Search\" value=\"\"/>\n"
     ]
    }
   ],
   "source": [
    "print(soup.find(title=\"Google Search\"))"
   ]
  },
  {
   "cell_type": "markdown",
   "metadata": {},
   "source": [
    "That's great, but how can I actually type something in that box using Python? For that, we need Selenium."
   ]
  },
  {
   "cell_type": "markdown",
   "metadata": {},
   "source": [
    "## Installing Selenium\n",
    "\n",
    "* Go to [this website](https://sites.google.com/a/chromium.org/chromedriver/home) to download Selenium Mac driver.\n",
    "* Use the command line or click on the file name in your Downloads folder to unzip the file.\n",
    "* Use the `mv` command to move the new `chromedriver` executable file into your home directory."
   ]
  },
  {
   "cell_type": "code",
   "execution_count": 3,
   "metadata": {},
   "outputs": [],
   "source": [
    "from selenium import webdriver\n",
    "from selenium.webdriver.common.keys import Keys\n",
    "import time\n",
    "\n",
    "### CHANGE THE NAME \"seth\" HERE:\n",
    "chromedriver_path = \"/Users/seth/chromedriver\"\n",
    "\n",
    "driver = webdriver.Chrome(chromedriver_path)\n",
    "driver.get('http://www.google.com/')\n",
    "time.sleep(1); \n",
    "search_box = driver.find_element_by_name(\"q\")"
   ]
  },
  {
   "cell_type": "markdown",
   "metadata": {},
   "source": [
    "Note that running this code will actually open a new Chrome window!"
   ]
  },
  {
   "cell_type": "markdown",
   "metadata": {},
   "source": [
    "The standard function that we use to \"send data\" to `WebElements` in Selenium is called `send_keys`."
   ]
  },
  {
   "cell_type": "code",
   "execution_count": 4,
   "metadata": {
    "collapsed": true
   },
   "outputs": [],
   "source": [
    "search_box.send_keys(\"What to wear today\")\n",
    "search_box.send_keys(Keys.RETURN)"
   ]
  },
  {
   "cell_type": "markdown",
   "metadata": {},
   "source": [
    "# OpenTable"
   ]
  },
  {
   "cell_type": "markdown",
   "metadata": {},
   "source": [
    "Now let's go through an example of interacting with a dynamic website using Selenium."
   ]
  },
  {
   "cell_type": "code",
   "execution_count": 5,
   "metadata": {},
   "outputs": [],
   "source": [
    "import time\n",
    "driver = webdriver.Chrome(chromedriver_path)\n",
    "driver.get('http://www.opentable.com/')\n",
    "time.sleep(1); "
   ]
  },
  {
   "cell_type": "markdown",
   "metadata": {},
   "source": [
    "This selects \"3 people\" from the first form:"
   ]
  },
  {
   "cell_type": "code",
   "execution_count": 6,
   "metadata": {
    "collapsed": true
   },
   "outputs": [],
   "source": [
    "people_dropdown = driver.find_element_by_name('Select_1')\n",
    "time.sleep(1); \n",
    "people_dropdown.send_keys(\"3 person\")\n",
    "people_dropdown.send_keys(Keys.RETURN)\n",
    "time.sleep(1); "
   ]
  },
  {
   "cell_type": "markdown",
   "metadata": {},
   "source": [
    "This selects Friday as the date:"
   ]
  },
  {
   "cell_type": "code",
   "execution_count": 7,
   "metadata": {
    "collapsed": true
   },
   "outputs": [],
   "source": [
    "temp = driver.find_element_by_name('datepicker')\n",
    "time.sleep(1); \n",
    "temp.click()\n",
    "time.sleep(1); \n",
    "date_element = driver.find_element_by_xpath('//div[@data-pick=\"1500008400000\"]')\n",
    "date_element.click()"
   ]
  },
  {
   "cell_type": "markdown",
   "metadata": {},
   "source": [
    "This selects 8:00 PM as the time:"
   ]
  },
  {
   "cell_type": "code",
   "execution_count": 8,
   "metadata": {
    "collapsed": true
   },
   "outputs": [],
   "source": [
    "time_dropdown = driver.find_element_by_name('Select_0')\n",
    "time_dropdown.send_keys(\"8:00 PM\")\n",
    "time_dropdown.send_keys(Keys.RETURN)\n",
    "time.sleep(1); "
   ]
  },
  {
   "cell_type": "markdown",
   "metadata": {},
   "source": [
    "This types in the \"West Loop\" as the neighborhood:"
   ]
  },
  {
   "cell_type": "code",
   "execution_count": 14,
   "metadata": {
    "collapsed": true
   },
   "outputs": [],
   "source": [
    "location = driver.find_element_by_name('searchText')\n",
    "location.send_keys(\"West Loop\")\n",
    "location.send_keys(Keys.RETURN)\n",
    "time.sleep(1); "
   ]
  },
  {
   "cell_type": "markdown",
   "metadata": {},
   "source": [
    "Now, let's search!"
   ]
  },
  {
   "cell_type": "code",
   "execution_count": 15,
   "metadata": {
    "collapsed": true
   },
   "outputs": [],
   "source": [
    "search = driver.find_element_by_xpath('//input[@value=\"Find a Table\"]')\n",
    "search.click()\n",
    "time.sleep(1); "
   ]
  },
  {
   "cell_type": "markdown",
   "metadata": {},
   "source": [
    "Now, let's loop through all of the restaurants that appear here. Note: at this point, you could switch back and use the slightly simpler and easier-to-use Beautiful Soup."
   ]
  },
  {
   "cell_type": "code",
   "execution_count": 21,
   "metadata": {},
   "outputs": [],
   "source": [
    "spans = driver.find_elements_by_xpath('//span[@class=\"rest-row-name-text\"]')\n",
    "for span in spans[:10]:\n",
    "    print(span.text)"
   ]
  },
  {
   "cell_type": "markdown",
   "metadata": {},
   "source": [
    "You would use only slightly more complicated code to, for example:\n",
    "\n",
    "* Get the number of \"dollar signs\" for each restaurant and print that out.\n",
    "* Get a list of restaurants that had reservations available at exactly 8:00 PM.\n",
    "* Print out the rating, out of five stars, of each restaurant.\n",
    "\n",
    "Each of these would take a bit of time and experimentation to figure out, but hopefully you see that it is possible."
   ]
  },
  {
   "cell_type": "markdown",
   "metadata": {},
   "source": [
    "Let's click on \"Bar Siena\":"
   ]
  },
  {
   "cell_type": "code",
   "execution_count": 17,
   "metadata": {},
   "outputs": [],
   "source": [
    "for span in spans:\n",
    "    if span.text == \"Bar Siena\":\n",
    "        span.click()"
   ]
  },
  {
   "cell_type": "markdown",
   "metadata": {},
   "source": [
    "Uh oh. We opened a new tab, but our driver is still on the old tab, so \n",
    "```\n",
    "driver.find_element_by_xpath('//p[@class=\"readmore\"]')\n",
    "```\n",
    "for example, won't work!\n",
    "\n",
    "We can use the following to switch the driver to the correct window:"
   ]
  },
  {
   "cell_type": "code",
   "execution_count": 18,
   "metadata": {
    "collapsed": true
   },
   "outputs": [],
   "source": [
    "driver.switch_to_window(driver.window_handles[1])"
   ]
  },
  {
   "cell_type": "code",
   "execution_count": null,
   "metadata": {},
   "outputs": [],
   "source": [
    "description_element = driver.find_element_by_xpath('//p[@class=\"readmore\"]')\n",
    "description_text = description_element.text.replace('\\n', ' ')\n",
    "description_text"
   ]
  },
  {
   "cell_type": "markdown",
   "metadata": {},
   "source": [
    "Finally, let's make a reservation!"
   ]
  },
  {
   "cell_type": "code",
   "execution_count": null,
   "metadata": {},
   "outputs": [],
   "source": [
    "reservation_element = driver.find_element_by_xpath('//a[@data-datetime=\"2017-07-14 22:00\"]')\n",
    "reservation_element.click()"
   ]
  },
  {
   "cell_type": "code",
   "execution_count": null,
   "metadata": {
    "collapsed": true
   },
   "outputs": [],
   "source": [
    "el = driver.find_element_by_xpath('//a[@id=\"ReservationChangeUserLink\"]')\n",
    "el.click()"
   ]
  },
  {
   "cell_type": "markdown",
   "metadata": {},
   "source": [
    "You would then enter your email and password and log in. Websites make this hard to do programmatically, even with tools like Selenium, on purpose.\n",
    "\n",
    "Finally, you can click the button below to confirm the reservation!"
   ]
  },
  {
   "cell_type": "code",
   "execution_count": null,
   "metadata": {},
   "outputs": [],
   "source": [
    "final_button = driver.find_element_by_xpath('//button[@id=\"btn-complete\"]')\n",
    "final_button.click()"
   ]
  },
  {
   "cell_type": "markdown",
   "metadata": {},
   "source": [
    "# Selenium References"
   ]
  },
  {
   "cell_type": "markdown",
   "metadata": {
    "run_control": {
     "frozen": false,
     "read_only": false
    }
   },
   "source": [
    "References: \n",
    "- Documentation on finding elements:\n",
    "- http://selenium-python.readthedocs.org/en/latest/locating-elements.html\n",
    "- Xpath tutorial:\n",
    "-  http://www.w3schools.com/xpath/xpath_syntax.asp"
   ]
  }
 ],
 "metadata": {
  "anaconda-cloud": {},
  "kernelspec": {
   "display_name": "Python 3",
   "language": "python",
   "name": "python3"
  },
  "language_info": {
   "codemirror_mode": {
    "name": "ipython",
    "version": 3
   },
   "file_extension": ".py",
   "mimetype": "text/x-python",
   "name": "python",
   "nbconvert_exporter": "python",
   "pygments_lexer": "ipython3",
   "version": "3.6.1"
  },
  "latex_envs": {
   "LaTeX_envs_menu_present": true,
   "bibliofile": "biblio.bib",
   "cite_by": "apalike",
   "current_citInitial": 1,
   "eqLabelWithNumbers": true,
   "eqNumInitial": 1,
   "hotkeys": {
    "equation": "Ctrl-E",
    "itemize": "Ctrl-I"
   },
   "labels_anchors": false,
   "latex_user_defs": false,
   "report_style_numbering": false,
   "user_envs_cfg": false
  },
  "toc": {
   "colors": {
    "hover_highlight": "#DAA520",
    "running_highlight": "#FF0000",
    "selected_highlight": "#FFD700"
   },
   "moveMenuLeft": true,
   "nav_menu": {
    "height": "124px",
    "width": "252px"
   },
   "navigate_menu": true,
   "number_sections": true,
   "sideBar": true,
   "threshold": 4,
   "toc_cell": false,
   "toc_section_display": "block",
   "toc_window_display": false,
   "widenNotebook": false
  }
 },
 "nbformat": 4,
 "nbformat_minor": 1
}
